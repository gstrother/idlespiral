{
  "nbformat": 4,
  "nbformat_minor": 0,
  "metadata": {
    "colab": {
      "name": "Idle Spirals Calc",
      "provenance": [],
      "collapsed_sections": [],
      "authorship_tag": "ABX9TyPys7d7fSZAMsN/4eVFxtDG",
      "include_colab_link": true
    },
    "kernelspec": {
      "name": "python3",
      "display_name": "Python 3"
    },
    "language_info": {
      "name": "python"
    }
  },
  "cells": [
    {
      "cell_type": "markdown",
      "metadata": {
        "id": "view-in-github",
        "colab_type": "text"
      },
      "source": [
        "<a href=\"https://colab.research.google.com/github/gstrother/idlespiral/blob/main/Idle_Spirals_Calc.ipynb\" target=\"_parent\"><img src=\"https://colab.research.google.com/assets/colab-badge.svg\" alt=\"Open In Colab\"/></a>"
      ]
    },
    {
      "cell_type": "markdown",
      "source": [
        "# Time to Kill calc\n",
        "## fill inputs in the top section and run to get time to kill in minutes\n"
      ],
      "metadata": {
        "id": "SiyPRzoH32l3"
      }
    },
    {
      "cell_type": "code",
      "execution_count": 7,
      "metadata": {
        "colab": {
          "base_uri": "https://localhost:8080/"
        },
        "id": "PmqDkY--30FA",
        "outputId": "bc0b7dfe-be01-4d45-ecb8-3ae269073908"
      },
      "outputs": [
        {
          "output_type": "stream",
          "name": "stdout",
          "text": [
            "minutes to kill mob: 6.3\n",
            "seconds to kill mob: 378.07\n"
          ]
        }
      ],
      "source": [
        "# region Inputs\n",
        "atk = 4.45e11\n",
        "atk_spd = 1.525  # seconds\n",
        "crit_rate = 0.2128  # as a decimal so 24.5% = 0.245\n",
        "crit_dmg = 17.13  # as a decimal so 2.13e3% = 2130% = 21.3\n",
        "enemy_hp = 5e14  # gamma is base 5e14 \n",
        "enemy_hp_reduction_levels = 22  # number of bought levels in Upgrades\n",
        "# endregion\n",
        "\n",
        "atks_per_minute = 60 / atk_spd\n",
        "avg_dmg = (atk*(1-crit_rate))+(atk*(crit_rate * crit_dmg))\n",
        "time_to_kill = (enemy_hp * (1- (enemy_hp_reduction_levels * 0.001))) / (avg_dmg * atks_per_minute)\n",
        "\n",
        "print(\"minutes to kill mob: {0:.2}\".format(time_to_kill))\n",
        "print(\"seconds to kill mob: {0:.2f}\".format(time_to_kill * 60))"
      ]
    }
  ]
}